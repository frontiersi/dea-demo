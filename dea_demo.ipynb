{
 "cells": [
  {
   "cell_type": "markdown",
   "metadata": {},
   "source": [
    "# DEA Demo\n",
    "\n",
    "This is a simple notebook to demonstrate key functionality of the Open Data Cube, which is the software package that underpins Digital Earth Australia."
   ]
  },
  {
   "cell_type": "markdown",
   "metadata": {},
   "source": [
    "## Working with Python"
   ]
  },
  {
   "cell_type": "code",
   "execution_count": null,
   "metadata": {},
   "outputs": [],
   "source": [
    "a = 1\n",
    "b = 2\n",
    "c = a + b\n",
    "\n",
    "print(c)"
   ]
  },
  {
   "cell_type": "markdown",
   "metadata": {},
   "source": [
    "## Setting up the Open Data Cube"
   ]
  },
  {
   "cell_type": "code",
   "execution_count": null,
   "metadata": {},
   "outputs": [],
   "source": [
    "# Import the datacube library\n",
    "import datacube\n",
    "\n",
    "# Connect to the datacube\n",
    "# This provides access to data\n",
    "dc = datacube.Datacube(app=\"dea-demo\")"
   ]
  },
  {
   "cell_type": "markdown",
   "metadata": {},
   "source": [
    "## Load data"
   ]
  },
  {
   "cell_type": "code",
   "execution_count": null,
   "metadata": {},
   "outputs": [],
   "source": [
    "# Set parameters for load\n",
    "latitude = (-29.85, -29.75)\n",
    "longitude = (149.67, 149.77)\n",
    "timeframe = (\"2013-01-01\", \"2018-12-31\")\n",
    "\n",
    "# Load the data\n",
    "ds = dc.load(\n",
    "    product=\"ls8_nbart_geomedian_annual\",\n",
    "    x=longitude,\n",
    "    y=latitude,\n",
    "    time=timeframe,\n",
    ")\n",
    "\n",
    "#Print the output\n",
    "print(ds)"
   ]
  },
  {
   "cell_type": "markdown",
   "metadata": {},
   "source": [
    "## Calculate new data"
   ]
  },
  {
   "cell_type": "code",
   "execution_count": null,
   "metadata": {},
   "outputs": [],
   "source": [
    "ds['ndvi'] = (ds.nir - ds.red) / (ds.nir + ds.red)\n",
    "\n",
    "print(ds)"
   ]
  },
  {
   "cell_type": "markdown",
   "metadata": {},
   "source": [
    "## Subselecting"
   ]
  },
  {
   "cell_type": "code",
   "execution_count": null,
   "metadata": {},
   "outputs": [],
   "source": [
    "# Select by value\n",
    "ds_subsel_val = ds.sel(time='2016-01-01')\n",
    "\n",
    "print(ds_subsel_val)"
   ]
  },
  {
   "cell_type": "code",
   "execution_count": null,
   "metadata": {},
   "outputs": [],
   "source": [
    "# Select by index\n",
    "ds_subsel_idx = ds.isel(time=1)\n",
    "\n",
    "print(ds_subsel_idx)"
   ]
  },
  {
   "cell_type": "markdown",
   "metadata": {},
   "source": [
    "## Plot data"
   ]
  },
  {
   "cell_type": "markdown",
   "metadata": {},
   "source": [
    "### RGB"
   ]
  },
  {
   "cell_type": "code",
   "execution_count": null,
   "metadata": {},
   "outputs": [],
   "source": [
    "# Choose the bands to plot\n",
    "bands = ['red', 'green', 'blue']\n",
    "\n",
    "# Choose the index to select\n",
    "index = 0\n",
    "\n",
    "# Calculate the aspect ratio\n",
    "x_dim, y_dim = list(ds.dims)[-2:]\n",
    "aspect = len(ds[x_dim]) / len(ds[y_dim])\n",
    "\n",
    "# Normalise the values to plot\n",
    "ds_rgb_plot = ds[bands].isel(time=index).to_array()/1000.\n",
    "\n",
    "# Make and display the plot\n",
    "ds_rgb_plot.plot.imshow(size=6, aspect=aspect)"
   ]
  },
  {
   "cell_type": "markdown",
   "metadata": {},
   "source": [
    "### Single band"
   ]
  },
  {
   "cell_type": "code",
   "execution_count": null,
   "metadata": {},
   "outputs": [],
   "source": [
    "ds.isel(time=index).ndvi.plot()"
   ]
  },
  {
   "cell_type": "markdown",
   "metadata": {},
   "source": [
    "## Plot average value over time"
   ]
  },
  {
   "cell_type": "code",
   "execution_count": null,
   "metadata": {},
   "outputs": [],
   "source": [
    "average_ndvi = ds.ndvi.mean(dim=['x', 'y'])\n",
    "\n",
    "average_ndvi.plot()"
   ]
  }
 ],
 "metadata": {
  "kernelspec": {
   "display_name": "Python 3",
   "language": "python",
   "name": "python3"
  },
  "language_info": {
   "codemirror_mode": {
    "name": "ipython",
    "version": 3
   },
   "file_extension": ".py",
   "mimetype": "text/x-python",
   "name": "python",
   "nbconvert_exporter": "python",
   "pygments_lexer": "ipython3",
   "version": "3.6.8"
  },
  "widgets": {
   "application/vnd.jupyter.widget-state+json": {
    "state": {},
    "version_major": 2,
    "version_minor": 0
   }
  }
 },
 "nbformat": 4,
 "nbformat_minor": 4
}
